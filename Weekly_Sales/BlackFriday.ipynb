{
 "cells": [
  {
   "cell_type": "markdown",
   "metadata": {},
   "source": [
    "# Visualizations"
   ]
  },
  {
   "cell_type": "code",
   "execution_count": 1,
   "metadata": {},
   "outputs": [
    {
     "name": "stderr",
     "output_type": "stream",
     "text": [
      "C:\\Users\\ASHU\\Anaconda3\\lib\\site-packages\\scipy\\stats\\stats.py:1713: FutureWarning: Using a non-tuple sequence for multidimensional indexing is deprecated; use `arr[tuple(seq)]` instead of `arr[seq]`. In the future this will be interpreted as an array index, `arr[np.array(seq)]`, which will result either in an error or a different result.\n",
      "  return np.add.reduce(sorted[indexer] * weights, axis=axis) / sumval\n"
     ]
    },
    {
     "data": {
      "text/plain": [
       "<Figure size 640x480 with 1 Axes>"
      ]
     },
     "metadata": {},
     "output_type": "display_data"
    },
    {
     "name": "stderr",
     "output_type": "stream",
     "text": [
      "C:\\Users\\ASHU\\Anaconda3\\lib\\site-packages\\seaborn\\categorical.py:3666: UserWarning: The `factorplot` function has been renamed to `catplot`. The original name will be removed in a future release. Please update your code. Note that the default `kind` in `factorplot` (`'point'`) has changed `'strip'` in `catplot`.\n",
      "  warnings.warn(msg)\n",
      "C:\\Users\\ASHU\\Anaconda3\\lib\\site-packages\\seaborn\\categorical.py:3672: UserWarning: The `size` paramter has been renamed to `height`; please update your code.\n",
      "  warnings.warn(msg, UserWarning)\n"
     ]
    },
    {
     "data": {
      "text/plain": [
       "<Figure size 640x480 with 2 Axes>"
      ]
     },
     "metadata": {},
     "output_type": "display_data"
    },
    {
     "data": {
      "text/plain": [
       "<Figure size 600x600 with 1 Axes>"
      ]
     },
     "metadata": {},
     "output_type": "display_data"
    },
    {
     "data": {
      "text/plain": [
       "<Figure size 640x480 with 1 Axes>"
      ]
     },
     "metadata": {},
     "output_type": "display_data"
    }
   ],
   "source": [
    "import pandas as pd\n",
    "import seaborn as sns\n",
    "import matplotlib.pyplot as plt\n",
    "\n",
    "data=pd.read_csv('blktrain.csv')\n",
    "\n",
    "numeric_data=['Age','Stay_In_Current_City_Years','Product_Category_1','Product_Category_2','Product_Category_3','Purchase']\n",
    "categorical_data=['Gender','City_Category','Marital_Status','Occupation']\n",
    "\n",
    "# Plots\n",
    "\n",
    "sns.barplot('Gender', 'Purchase', data=data, color=\"darkturquoise\")\n",
    "plt.show()\n",
    "\n",
    "sns.heatmap(data[numeric_data].corr(),annot=True,fmt='0.2f',cmap='coolwarm')\n",
    "\n",
    "g=sns.factorplot(x='Age',y='Purchase',data=data,kind='bar',size=6,palette='muted')\n",
    "g.despine(left=True)\n",
    "g=g.set_ylabels('Purchase')\n",
    "g=g.set_xlabels('Age')\n",
    "\n",
    "sns.barplot('Product_Category_1', 'Purchase', data=data, color=\"lightcoral\")\n",
    "plt.show()\n",
    "\n",
    "sns.barplot('Product_Category_2', 'Purchase', data=data, color=\"red\")\n",
    "plt.show()"
   ]
  },
  {
   "cell_type": "markdown",
   "metadata": {},
   "source": [
    "# for train data"
   ]
  },
  {
   "cell_type": "code",
   "execution_count": 2,
   "metadata": {
    "scrolled": true
   },
   "outputs": [
    {
     "name": "stdout",
     "output_type": "stream",
     "text": [
      "dt error  9951525.111509811\n",
      "lr error  22008776.956750706\n"
     ]
    },
    {
     "name": "stderr",
     "output_type": "stream",
     "text": [
      "C:\\Users\\ASHU\\Anaconda3\\lib\\site-packages\\sklearn\\ensemble\\forest.py:246: FutureWarning: The default value of n_estimators will change from 10 in version 0.20 to 100 in 0.22.\n",
      "  \"10 in version 0.20 to 100 in 0.22.\", FutureWarning)\n"
     ]
    },
    {
     "name": "stdout",
     "output_type": "stream",
     "text": [
      "rfr error  9221298.108364996\n"
     ]
    },
    {
     "name": "stderr",
     "output_type": "stream",
     "text": [
      "C:\\Users\\ASHU\\Anaconda3\\lib\\site-packages\\sklearn\\ensemble\\forest.py:246: FutureWarning: The default value of n_estimators will change from 10 in version 0.20 to 100 in 0.22.\n",
      "  \"10 in version 0.20 to 100 in 0.22.\", FutureWarning)\n"
     ]
    },
    {
     "name": "stdout",
     "output_type": "stream",
     "text": [
      "etr error  9546781.031125383\n",
      "knr error  10565282.648428988\n",
      "gbr error  8969389.363173174\n"
     ]
    }
   ],
   "source": [
    "import pandas as pd\n",
    "import numpy as np\n",
    "from sklearn.preprocessing import LabelEncoder\n",
    "from sklearn.model_selection import train_test_split\n",
    "from sklearn.linear_model import LinearRegression\n",
    "from sklearn.metrics import mean_squared_error \n",
    "\n",
    "data=pd.read_csv('blktrain.csv')\n",
    "\n",
    "numeric_data=['Age','Stay_In_Current_City_Years','Product_Category_1','Product_Category_2','Product_Category_3','Purchase']\n",
    "categorical_data=['Gender','City_Category','Marital_Status','Occupation']\n",
    "\n",
    "# DATA CLEANING\n",
    "\n",
    "\n",
    "age = np.unique(data['Age'])\n",
    "def map_age(age):\n",
    "    if age == '0-17':\n",
    "        return 0\n",
    "    elif age == '18-25':\n",
    "        return 1\n",
    "    elif age == '26-35':\n",
    "        return 2\n",
    "    elif age == '36-45':\n",
    "        return 3\n",
    "    elif age == '46-50':\n",
    "        return 4\n",
    "    elif age == '51-55':\n",
    "        return 5\n",
    "    else:\n",
    "        return 6\n",
    "data['Age'] = data['Age'].apply(map_age)\n",
    "#------------------------------------------\n",
    "\n",
    "data=pd.get_dummies(data,columns=['City_Category'])\n",
    "\n",
    "le=LabelEncoder()\n",
    "data2=data\n",
    "data2.Gender=le.fit_transform(data2.Gender)\n",
    "\n",
    "\n",
    "a = np.unique(data['Stay_In_Current_City_Years'])\n",
    "def map_a(Stay_In_Current_City_Years):\n",
    "    if Stay_In_Current_City_Years == '4+':\n",
    "        return 5\n",
    "    else:\n",
    "        return Stay_In_Current_City_Years\n",
    "data['Stay_In_Current_City_Years'] = data['Stay_In_Current_City_Years'].apply(map_a)\n",
    "\n",
    "y=data['Purchase']\n",
    "data.drop(['User_ID','Product_ID','Product_Category_3','Purchase'],axis=1,inplace=True)\n",
    "data.Product_Category_2.fillna(data.Product_Category_2.mode()[0],inplace=True)\n",
    "\n",
    "X_train,X_test,y_train,y_test=train_test_split(data,y,test_size=0.30)\n",
    "\n",
    "from sklearn.tree import DecisionTreeRegressor\n",
    "from sklearn.linear_model import LinearRegression\n",
    "from sklearn.ensemble import RandomForestRegressor \n",
    "from sklearn.ensemble import ExtraTreesRegressor\n",
    "from sklearn.neighbors import KNeighborsRegressor\n",
    "from sklearn.svm import SVR\n",
    "from sklearn.model_selection import cross_val_score\n",
    "from sklearn.metrics import mean_squared_error\n",
    "from sklearn.ensemble import GradientBoostingRegressor\n",
    "from sklearn.model_selection import KFold\n",
    "\n",
    "\n",
    "model=DecisionTreeRegressor()\n",
    "model.fit(X_train,y_train)\n",
    "model.score(X_train,y_train)\n",
    "y_pred=model.predict(X_test)\n",
    "print ('dt error ',mean_squared_error(y_test, y_pred))\n",
    "\n",
    "\n",
    "lr=LinearRegression()\n",
    "lr.fit(X_train,y_train)\n",
    "y_pred=lr.predict(X_test)\n",
    "print ('lr error ',mean_squared_error(y_test, y_pred))\n",
    "\n",
    "\n",
    "\n",
    "rfr=RandomForestRegressor()\n",
    "rfr.fit(X_train,y_train)\n",
    "y_pred=rfr.predict(X_test)\n",
    "print ('rfr error ',mean_squared_error(y_test, y_pred))\n",
    "\n",
    "\n",
    "etr=ExtraTreesRegressor()\n",
    "etr.fit(X_train,y_train)\n",
    "y_pred=etr.predict(X_test)\n",
    "print ('etr error ',mean_squared_error(y_test, y_pred))\n",
    "\n",
    "\n",
    "\n",
    "\n",
    "knr=KNeighborsRegressor()\n",
    "knr.fit(X_train,y_train)\n",
    "y_pred=knr.predict(X_test)\n",
    "print ('knr error ',mean_squared_error(y_test, y_pred))\n",
    "\n",
    "gbr=GradientBoostingRegressor()\n",
    "gbr.fit(X_train,y_train)\n",
    "y_pred=gbr.predict(X_test)\n",
    "print ('gbr error ',mean_squared_error(y_test, y_pred))\n"
   ]
  },
  {
   "cell_type": "markdown",
   "metadata": {},
   "source": [
    "# for test data "
   ]
  },
  {
   "cell_type": "code",
   "execution_count": 6,
   "metadata": {},
   "outputs": [
    {
     "data": {
      "text/html": [
       "<div>\n",
       "<style scoped>\n",
       "    .dataframe tbody tr th:only-of-type {\n",
       "        vertical-align: middle;\n",
       "    }\n",
       "\n",
       "    .dataframe tbody tr th {\n",
       "        vertical-align: top;\n",
       "    }\n",
       "\n",
       "    .dataframe thead th {\n",
       "        text-align: right;\n",
       "    }\n",
       "</style>\n",
       "<table border=\"1\" class=\"dataframe\">\n",
       "  <thead>\n",
       "    <tr style=\"text-align: right;\">\n",
       "      <th></th>\n",
       "      <th>Purchase</th>\n",
       "      <th>UserId</th>\n",
       "      <th>ProductId</th>\n",
       "    </tr>\n",
       "  </thead>\n",
       "  <tbody>\n",
       "    <tr>\n",
       "      <th>0</th>\n",
       "      <td>13422.194577</td>\n",
       "      <td>1000004</td>\n",
       "      <td>P00128942</td>\n",
       "    </tr>\n",
       "    <tr>\n",
       "      <th>1</th>\n",
       "      <td>10215.987065</td>\n",
       "      <td>1000009</td>\n",
       "      <td>P00113442</td>\n",
       "    </tr>\n",
       "    <tr>\n",
       "      <th>2</th>\n",
       "      <td>6156.095921</td>\n",
       "      <td>1000010</td>\n",
       "      <td>P00288442</td>\n",
       "    </tr>\n",
       "    <tr>\n",
       "      <th>3</th>\n",
       "      <td>2673.496131</td>\n",
       "      <td>1000010</td>\n",
       "      <td>P00145342</td>\n",
       "    </tr>\n",
       "    <tr>\n",
       "      <th>4</th>\n",
       "      <td>2622.499038</td>\n",
       "      <td>1000011</td>\n",
       "      <td>P00053842</td>\n",
       "    </tr>\n",
       "  </tbody>\n",
       "</table>\n",
       "</div>"
      ],
      "text/plain": [
       "       Purchase   UserId  ProductId\n",
       "0  13422.194577  1000004  P00128942\n",
       "1  10215.987065  1000009  P00113442\n",
       "2   6156.095921  1000010  P00288442\n",
       "3   2673.496131  1000010  P00145342\n",
       "4   2622.499038  1000011  P00053842"
      ]
     },
     "execution_count": 6,
     "metadata": {},
     "output_type": "execute_result"
    }
   ],
   "source": [
    "import pandas as pd\n",
    "import seaborn as sns\n",
    "import matplotlib.pyplot as plt\n",
    "\n",
    "import numpy as np\n",
    "from sklearn.preprocessing import LabelEncoder\n",
    "from sklearn.model_selection import train_test_split\n",
    "dtest=pd.read_csv('blktest.csv')\n",
    "\n",
    "# svt=pd.read_csv('smn.csv')\n",
    "\n",
    "\n",
    "# svt\n",
    "\n",
    "age = np.unique(dtest['Age'])\n",
    "def map_age(age):\n",
    "    if age == '0-17':\n",
    "        return 0\n",
    "    elif age == '18-25':\n",
    "        return 1\n",
    "    elif age == '26-35':\n",
    "        return 2\n",
    "    elif age == '36-45':\n",
    "        return 3\n",
    "    elif age == '46-50':\n",
    "        return 4\n",
    "    elif age == '51-55':\n",
    "        return 5\n",
    "    else:\n",
    "        return 6\n",
    "dtest['Age'] = dtest['Age'].apply(map_age)\n",
    "#------------------------------------------\n",
    "\n",
    "dtest=pd.get_dummies(dtest,columns=['City_Category'])\n",
    "\n",
    "le=LabelEncoder()\n",
    "data2=dtest\n",
    "data2.Gender=le.fit_transform(data2.Gender)\n",
    "\n",
    "\n",
    "a = np.unique(dtest['Stay_In_Current_City_Years'])\n",
    "def map_a(Stay_In_Current_City_Years):\n",
    "    if Stay_In_Current_City_Years == '4+':\n",
    "        return 5\n",
    "    else:\n",
    "        return Stay_In_Current_City_Years\n",
    "dtest['Stay_In_Current_City_Years'] = dtest['Stay_In_Current_City_Years'].apply(map_a)\n",
    "\n",
    "uid=dtest['User_ID']\n",
    "pid=dtest['Product_ID']\n",
    "dtest.drop(['User_ID','Product_ID','Product_Category_3'],axis=1,inplace=True)\n",
    "\n",
    "# svt.drop(['Purchase'],axis=1)\n",
    "\n",
    "results = []\n",
    "\n",
    "dtest.isnull().sum()\n",
    "\n",
    "dtest.Product_Category_2.fillna(dtest.Product_Category_2.mode()[0],inplace=True)\n",
    "\n",
    "from sklearn.ensemble import GradientBoostingRegressor\n",
    "gbr=GradientBoostingRegressor(max_depth=2,random_state=0,n_estimators=200)\n",
    "gbr.fit(data,y)\n",
    "ko=gbr.predict(dtest)\n",
    "# svt['Purchase']=ko\n",
    "a=pd.DataFrame()\n",
    "a['Purchase']=ko\n",
    "a['UserId']=uid\n",
    "a['ProductId']=pid\n",
    "a.to_csv('submit.csv',index=False)\n",
    "d=pd.read_csv('submit.csv')\n",
    "\n",
    "# final output\n",
    "d.head()"
   ]
  }
 ],
 "metadata": {
  "kernelspec": {
   "display_name": "Python 3",
   "language": "python",
   "name": "python3"
  },
  "language_info": {
   "codemirror_mode": {
    "name": "ipython",
    "version": 3
   },
   "file_extension": ".py",
   "mimetype": "text/x-python",
   "name": "python",
   "nbconvert_exporter": "python",
   "pygments_lexer": "ipython3",
   "version": "3.7.1"
  }
 },
 "nbformat": 4,
 "nbformat_minor": 2
}
